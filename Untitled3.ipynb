{
 "cells": [
  {
   "cell_type": "code",
   "execution_count": 1,
   "metadata": {},
   "outputs": [
    {
     "name": "stdout",
     "output_type": "stream",
     "text": [
      "True\n",
      "False\n"
     ]
    }
   ],
   "source": [
    "s=\"5678\"\n",
    "s1=\"App1889\"\n",
    "print(s.isnumeric())\n",
    "print(s1.isnumeric())\n"
   ]
  },
  {
   "cell_type": "code",
   "execution_count": 2,
   "metadata": {},
   "outputs": [
    {
     "name": "stdout",
     "output_type": "stream",
     "text": [
      "False\n",
      "True\n"
     ]
    }
   ],
   "source": [
    "s='python is Easy programming to learn and interesting'\n",
    "s1=\"python\"\n",
    "print(s.islower())\n",
    "print(s1.islower())\n"
   ]
  },
  {
   "cell_type": "code",
   "execution_count": 3,
   "metadata": {},
   "outputs": [
    {
     "name": "stdout",
     "output_type": "stream",
     "text": [
      "False\n",
      "True\n"
     ]
    }
   ],
   "source": [
    "s=\"Application\"\n",
    "s1='ANIL'\n",
    "print(s.isupper())\n",
    "print(s1.isupper())\n"
   ]
  },
  {
   "cell_type": "code",
   "execution_count": 4,
   "metadata": {},
   "outputs": [
    {
     "name": "stdout",
     "output_type": "stream",
     "text": [
      "True\n",
      "False\n"
     ]
    }
   ],
   "source": [
    "s=\"Application\"\n",
    "s1=\"App1889\"\n",
    "print(s.isalpha())\n",
    "print(s1.isalpha())"
   ]
  },
  {
   "cell_type": "code",
   "execution_count": 6,
   "metadata": {},
   "outputs": [
    {
     "name": "stdout",
     "output_type": "stream",
     "text": [
      "p y t h o n\n"
     ]
    }
   ],
   "source": [
    "str=\"python\"\n",
    "print(\" \".join(str))\n"
   ]
  },
  {
   "cell_type": "code",
   "execution_count": 7,
   "metadata": {},
   "outputs": [
    {
     "name": "stdout",
     "output_type": "stream",
     "text": [
      "False\n",
      "True\n"
     ]
    }
   ],
   "source": [
    "s=\"Python programming\";\n",
    "s1=\"Python Programming\";\n",
    "print(s.istitle());\n",
    "print(s1.istitle());\n"
   ]
  },
  {
   "cell_type": "code",
   "execution_count": 8,
   "metadata": {},
   "outputs": [
    {
     "name": "stdout",
     "output_type": "stream",
     "text": [
      "False\n",
      "True\n"
     ]
    }
   ],
   "source": [
    "s=\"python\"\n",
    "s1=\"  \"\n",
    "print(s.isspace())\n",
    "print(s1.isspace())\n"
   ]
  },
  {
   "cell_type": "code",
   "execution_count": 9,
   "metadata": {},
   "outputs": [
    {
     "name": "stdout",
     "output_type": "stream",
     "text": [
      "python g programming g Easy\n"
     ]
    }
   ],
   "source": [
    "print(\" g \".join([\"python\",\"programming\",\"Easy\"]))\n"
   ]
  },
  {
   "cell_type": "code",
   "execution_count": 11,
   "metadata": {},
   "outputs": [
    {
     "name": "stdout",
     "output_type": "stream",
     "text": [
      ",\n"
     ]
    }
   ],
   "source": [
    "lst=[\"\",\"\"]\n",
    "print(\",\".join(lst));"
   ]
  },
  {
   "cell_type": "code",
   "execution_count": 12,
   "metadata": {},
   "outputs": [
    {
     "name": "stdout",
     "output_type": "stream",
     "text": [
      "['Python', 'is', 'Easy']\n",
      "['Python is E', 'sy']\n",
      "['Python is Easy']\n"
     ]
    }
   ],
   "source": [
    "\n",
    "s=\"Python is Easy\";\n",
    "print(s.split())\n",
    "print(s.split(\"a\"));\n",
    "print(s.split(\",\"))\n",
    "\n"
   ]
  },
  {
   "cell_type": "code",
   "execution_count": 13,
   "metadata": {},
   "outputs": [
    {
     "name": "stdout",
     "output_type": "stream",
     "text": [
      "['Python', 'Programming', 'is', 'easy', 'to', 'learn']\n",
      "2\n"
     ]
    }
   ],
   "source": [
    "s=\"Python Programming is easy to learn\";\n",
    "lst=s.split();\n",
    "print(lst);\n",
    "print(lst.index(\"is\"));\n",
    "\n"
   ]
  },
  {
   "cell_type": "code",
   "execution_count": 14,
   "metadata": {},
   "outputs": [
    {
     "name": "stdout",
     "output_type": "stream",
     "text": [
      "Python Proapplicationmming\n"
     ]
    }
   ],
   "source": [
    "s=\"Python Programming\";\n",
    "print(s.replace(\"gra\",\"application\"));\n",
    "\n"
   ]
  },
  {
   "cell_type": "code",
   "execution_count": 15,
   "metadata": {},
   "outputs": [
    {
     "name": "stdout",
     "output_type": "stream",
     "text": [
      "['P', 'y', 't', 'h', 'o', 'n', ' ', 'P', 'r', 'o', 'g', 'r', 'a', 'm', 'm', 'i', 'n', 'g', ' ', 'i', 's', ' ', 'e', 'a', 's', 'y', ' ', 't', 'o', ' ', 'l', 'e', 'a', 'r', 'n']\n"
     ]
    }
   ],
   "source": [
    "s=\"Python Programming is easy to learn\";\n",
    "lst=list(s);\n",
    "print(lst);\n",
    "\n"
   ]
  },
  {
   "cell_type": "code",
   "execution_count": 16,
   "metadata": {},
   "outputs": [
    {
     "name": "stdout",
     "output_type": "stream",
     "text": [
      "('Python', 'Programming', '1989', '2019', 'Machine Learning', 'AI')\n",
      "(1, 2, 3, 4, 5)\n",
      "t1[0]= Python\n",
      "t1[2]= 1989\n",
      "t1[-1]= AI\n",
      "t1[1:4]= ('Programming', '1989', '2019')\n",
      "t1[2:-2]= ('1989', '2019')\n"
     ]
    }
   ],
   "source": [
    "\n",
    "t1=(\"Python\",\"Programming\",\"1989\",\"2019\",\"Machine Learning\",\"AI\")\n",
    "t2=(1,2,3,4,5)\n",
    "print(t1);\n",
    "print(t2);\n",
    "\n",
    "t1=(\"Python\",\"Programming\",\"1989\",\"2019\",\"Machine Learning\",\"AI\")\n",
    "print(\"t1[0]=\",t1[0]);\n",
    "print(\"t1[2]=\",t1[2]);\n",
    "print(\"t1[-1]=\",t1[-1]);\n",
    "print(\"t1[1:4]=\",t1[1:4]);\n",
    "print(\"t1[2:-2]=\",t1[2:-2]);\n",
    "\n"
   ]
  },
  {
   "cell_type": "code",
   "execution_count": 18,
   "metadata": {},
   "outputs": [
    {
     "name": "stdout",
     "output_type": "stream",
     "text": [
      "(1, 2, 3, 4, 5)\n",
      "(1, 2, 3, 4, 5)\n"
     ]
    },
    {
     "ename": "NameError",
     "evalue": "name 'cmp' is not defined",
     "output_type": "error",
     "traceback": [
      "\u001b[1;31m---------------------------------------------------------------------------\u001b[0m",
      "\u001b[1;31mNameError\u001b[0m                                 Traceback (most recent call last)",
      "\u001b[1;32m<ipython-input-18-e29eff59994d>\u001b[0m in \u001b[0;36m<module>\u001b[1;34m\u001b[0m\n\u001b[0;32m      3\u001b[0m \u001b[0mprint\u001b[0m\u001b[1;33m(\u001b[0m\u001b[0mt1\u001b[0m\u001b[1;33m)\u001b[0m\u001b[1;33m;\u001b[0m\u001b[1;33m\u001b[0m\u001b[1;33m\u001b[0m\u001b[0m\n\u001b[0;32m      4\u001b[0m \u001b[0mprint\u001b[0m\u001b[1;33m(\u001b[0m\u001b[0mt2\u001b[0m\u001b[1;33m)\u001b[0m\u001b[1;33m;\u001b[0m\u001b[1;33m\u001b[0m\u001b[1;33m\u001b[0m\u001b[0m\n\u001b[1;32m----> 5\u001b[1;33m \u001b[0ma\u001b[0m\u001b[1;33m=\u001b[0m\u001b[0mcmp\u001b[0m\u001b[1;33m(\u001b[0m\u001b[0mt1\u001b[0m\u001b[1;33m,\u001b[0m\u001b[0mt2\u001b[0m\u001b[1;33m)\u001b[0m\u001b[1;33m;\u001b[0m\u001b[1;33m\u001b[0m\u001b[1;33m\u001b[0m\u001b[0m\n\u001b[0m\u001b[0;32m      6\u001b[0m \u001b[0mprint\u001b[0m\u001b[1;33m(\u001b[0m\u001b[0ma\u001b[0m\u001b[1;33m)\u001b[0m\u001b[1;33m;\u001b[0m\u001b[1;33m\u001b[0m\u001b[1;33m\u001b[0m\u001b[0m\n\u001b[0;32m      7\u001b[0m \u001b[1;33m\u001b[0m\u001b[0m\n",
      "\u001b[1;31mNameError\u001b[0m: name 'cmp' is not defined"
     ]
    }
   ],
   "source": [
    "t1=(1,2,3,4,5);\n",
    "t2=(1,2,3,4,5);\n",
    "print(t1);\n",
    "print(t2);\n",
    "a=cmp(t1,t2);\n",
    "print(a);\n",
    "\n",
    "\n"
   ]
  },
  {
   "cell_type": "code",
   "execution_count": 19,
   "metadata": {},
   "outputs": [
    {
     "name": "stdout",
     "output_type": "stream",
     "text": [
      "['Python', 'Pogrammong', 1989, 2019, 'Machine Learning', 'AI']\n",
      "('Python', 'Pogrammong', 1989, 2019, 'Machine Learning', 'AI')\n"
     ]
    }
   ],
   "source": [
    "list1=[\"Python\",\"Pogrammong\",1989,2019,\"Machine Learning\",\"AI\"];\n",
    "print(list1);\n",
    "tuple1=tuple(list1);\n",
    "print(tuple1);\n"
   ]
  },
  {
   "cell_type": "code",
   "execution_count": 21,
   "metadata": {},
   "outputs": [
    {
     "name": "stdout",
     "output_type": "stream",
     "text": [
      "user1[Name]= Anil\n",
      "user1[Age]= 29\n",
      "user1[EmailID]= anil@gmail.com\n",
      "user1[Mobile no.]= 123456789\n",
      "anil@gmail.com\n"
     ]
    }
   ],
   "source": [
    "user1={'Name': 'Anil', 'Age': '29','EmailID':'anil@gmail.com','Mobile no.':'123456789'}\n",
    "print(\"user1[Name]=\",user1['Name'])\n",
    "print(\"user1[Age]=\",user1['Age'])\n",
    "print(\"user1[EmailID]=\",user1['EmailID'])\n",
    "print(\"user1[Mobile no.]=\",user1['Mobile no.'])\n",
    "\n",
    "user1={'Name': 'Anil', 'Age': '29','EmailID':'anil@gmail.com','Mobile no.':'123456789'}\n",
    "print(user1['EmailID']);"
   ]
  },
  {
   "cell_type": "code",
   "execution_count": 22,
   "metadata": {},
   "outputs": [
    {
     "name": "stdout",
     "output_type": "stream",
     "text": [
      "Anil@gmail.com\n",
      "Hyderabad\n"
     ]
    }
   ],
   "source": [
    "#Update\n",
    "user1['EmailID']='Anil@gmail.com'\n",
    "print(user1['EmailID'])\n",
    "user1['Address']='Hyderabad'  #New entry\n",
    "print(user1['Address'])\n",
    "\n"
   ]
  },
  {
   "cell_type": "code",
   "execution_count": 23,
   "metadata": {},
   "outputs": [
    {
     "name": "stdout",
     "output_type": "stream",
     "text": [
      "4\n",
      "5\n"
     ]
    }
   ],
   "source": [
    "user1={'Name': 'Anil', 'Age': '29','EmailID':'anil@gmail.com','Mobile no.':'123456789'}\n",
    "print(len(user1));\n",
    "user1['Address']='Hyerabad'\n",
    "print(len(user1))"
   ]
  },
  {
   "cell_type": "code",
   "execution_count": 27,
   "metadata": {},
   "outputs": [],
   "source": [
    "user1={'Name': 'Anil', 'Age': '29','EmailID':'anil@gmail.com','Mobile no.':'123456789'}\n",
    "del user1['EmailID'];\n",
    "user1.clear()\n",
    "del user1"
   ]
  },
  {
   "cell_type": "code",
   "execution_count": 28,
   "metadata": {},
   "outputs": [
    {
     "name": "stdout",
     "output_type": "stream",
     "text": [
      "{'Name': 'Anil', 'Age': '29', 'EmailID': 'anil@gmail.com', 'Mobile no.': '123456789'}\n",
      "{'Name': 'Anil', 'Age': '29', 'EmailID': 'anil@gmail.com', 'Mobile no.': '123456789'}\n",
      "{'Name': 'Anil', 'Age': '29', 'EmailID': 'anil@gmail.com', 'Mobile no.': '123456789', 'Address': 'Hyderabad'}\n",
      "{'Name': 'Anil', 'Age': '29', 'EmailID': 'anil@gmail.com', 'Mobile no.': '123456789'}\n"
     ]
    }
   ],
   "source": [
    "user1={'Name': 'Anil', 'Age': '29','EmailID':'anil@gmail.com','Mobile no.':'123456789'}\n",
    "user2=user1.copy()\n",
    "\n",
    "print(user1)\n",
    "print(user2)\n",
    "user1['Address']='Hyderabad'\n",
    "print(user1)\n",
    "print(user2)\n",
    "\n"
   ]
  },
  {
   "cell_type": "code",
   "execution_count": 30,
   "metadata": {},
   "outputs": [
    {
     "name": "stdout",
     "output_type": "stream",
     "text": [
      "python programming\n"
     ]
    }
   ],
   "source": [
    "list=['python','programming']\n",
    "print(\"%s %s\"%(list[0],list[1]))\n"
   ]
  },
  {
   "cell_type": "code",
   "execution_count": 41,
   "metadata": {},
   "outputs": [
    {
     "name": "stdout",
     "output_type": "stream",
     "text": [
      "Contact Anil added\n",
      "Contact Harsha added\n",
      "Contact Anil added\n"
     ]
    }
   ],
   "source": [
    "contacts={}\n",
    "def addContact(name,phone):\n",
    "    #verify that the contact doesnot already exists\n",
    "    if name not in contacts:\n",
    "        print(\"Contact %s added\" % name)\n",
    "    else:\n",
    "        print(\"Contact %s already exists\" % name)\n",
    "    return\n",
    "addContact(\"Anil\",8467987563)\n",
    "addContact(\"Harsha\",764985987)\n",
    "addContact(\"Anil\",456798086)\n"
   ]
  },
  {
   "cell_type": "code",
   "execution_count": 42,
   "metadata": {},
   "outputs": [
    {
     "name": "stdout",
     "output_type": "stream",
     "text": [
      "Contact Anil added\n",
      "Contact Harsha added\n",
      "Contact Anil already exists\n"
     ]
    }
   ],
   "source": [
    "contacts={}\n",
    "def addContact(name,phone):\n",
    "    #verify that the contact doesnot already exists\n",
    "    if name not in contacts:\n",
    "        contacts[name]=phone\n",
    "        print(\"Contact %s added\" % name)\n",
    "    else:\n",
    "        print(\"Contact %s already exists\" % name)\n",
    "    return\n",
    "addContact(\"Anil\",8467987563)\n",
    "addContact(\"Harsha\",764985987)\n",
    "addContact(\"Anil\",456798086)"
   ]
  },
  {
   "cell_type": "code",
   "execution_count": 43,
   "metadata": {},
   "outputs": [
    {
     "name": "stdout",
     "output_type": "stream",
     "text": [
      "Anil  :  8467987563\n",
      "Ajay does not exists\n",
      "Harsha  :  764985987\n",
      "Kranth does not exists\n"
     ]
    }
   ],
   "source": [
    "# search for a particular contact from contact list\n",
    "def searchContact(name):\n",
    "    if name in contacts:\n",
    "        print(name,\" : \",contacts[name])\n",
    "    else:\n",
    "        print(\"%s does not exists\" % name)\n",
    "    return\n",
    "searchContact(\"Anil\")\n",
    "searchContact(\"Ajay\")\n",
    "searchContact(\"Harsha\")\n",
    "searchContact(\"Kranth\")"
   ]
  },
  {
   "cell_type": "code",
   "execution_count": 44,
   "metadata": {},
   "outputs": [
    {
     "name": "stdout",
     "output_type": "stream",
     "text": [
      "Anil  :  8467987563\n",
      "Ajay does not exists\n",
      "Harsha  :  764985987\n",
      "Kranth does not exists\n"
     ]
    }
   ],
   "source": [
    "def searchContact(name):\n",
    "    if name in contacts:\n",
    "        print(name,\" : \",contacts[name])\n",
    "    else:\n",
    "        print(\"%s does not exists\"% name)\n",
    "    return\n",
    "searchContact(\"Anil\")\n",
    "searchContact(\"Ajay\")\n",
    "searchContact(\"Harsha\")\n",
    "searchContact(\"Kranth\")\n"
   ]
  },
  {
   "cell_type": "code",
   "execution_count": 45,
   "metadata": {},
   "outputs": [
    {
     "name": "stdout",
     "output_type": "stream",
     "text": [
      "2 Contacts added successful\n"
     ]
    }
   ],
   "source": [
    "\n",
    "def importContacts(newContacts):\n",
    "    contacts.update(newContacts)\n",
    "    print(len(newContacts.keys()),\"Contacts added successful\");\n",
    "    return;\n",
    "\n",
    "newContacts={'Dinesh':45674578,'Ajay':894577387}\n",
    "importContacts(newContacts)"
   ]
  },
  {
   "cell_type": "code",
   "execution_count": 46,
   "metadata": {},
   "outputs": [
    {
     "name": "stdout",
     "output_type": "stream",
     "text": [
      "Harsha : updated with new phone number\n",
      "Anil : updated with new phone number\n"
     ]
    }
   ],
   "source": [
    "def updatecontact(name,phone):\n",
    "    if name in contacts:\n",
    "        contacts[name]=phone\n",
    "        print(name,\": updated with new phone number\")\n",
    "    else:\n",
    "        print(name,\": not exists in the contacts\")\n",
    "    return\n",
    "updatecontact(\"Harsha\",9983645331)\n",
    "updatecontact(\"Anil\",9847560404)"
   ]
  },
  {
   "cell_type": "code",
   "execution_count": 47,
   "metadata": {},
   "outputs": [
    {
     "name": "stdout",
     "output_type": "stream",
     "text": [
      "Harsha : is deleted from the contacts\n",
      "Naveen : is not exists in the contacts\n"
     ]
    }
   ],
   "source": [
    "def deletecontact(name):\n",
    "    if name in contacts:\n",
    "        del contacts[name]\n",
    "        print(name,\": is deleted from the contacts\")\n",
    "    else:\n",
    "        print(name,\": is not exists in the contacts\")\n",
    "    return\n",
    "deletecontact(\"Harsha\")\n",
    "deletecontact(\"Naveen\")"
   ]
  },
  {
   "cell_type": "code",
   "execution_count": 48,
   "metadata": {},
   "outputs": [
    {
     "name": "stdout",
     "output_type": "stream",
     "text": [
      "1 2 3 4\n",
      "Value at : 1 Value at : 2\n",
      "Value at : 3 Value at : 4\n"
     ]
    }
   ],
   "source": [
    "\n",
    "lst=[1, 2, 3, 4]\n",
    "print(\"%d %d %d %d\"%(lst[0],lst[1],lst[2],lst[3]))\n",
    "\n",
    "lst=[1,2,3,4]\n",
    "print(\"Value at : {0} Value at : {1}\".format(lst[0],lst[1]))\n",
    "print(\"Value at : {0} Value at : {1}\".format(lst[2],lst[3]))"
   ]
  },
  {
   "cell_type": "code",
   "execution_count": null,
   "metadata": {},
   "outputs": [],
   "source": []
  },
  {
   "cell_type": "code",
   "execution_count": null,
   "metadata": {},
   "outputs": [],
   "source": []
  },
  {
   "cell_type": "code",
   "execution_count": null,
   "metadata": {},
   "outputs": [],
   "source": []
  },
  {
   "cell_type": "code",
   "execution_count": null,
   "metadata": {},
   "outputs": [],
   "source": []
  },
  {
   "cell_type": "code",
   "execution_count": null,
   "metadata": {},
   "outputs": [],
   "source": []
  },
  {
   "cell_type": "code",
   "execution_count": null,
   "metadata": {},
   "outputs": [],
   "source": []
  },
  {
   "cell_type": "code",
   "execution_count": null,
   "metadata": {},
   "outputs": [],
   "source": []
  },
  {
   "cell_type": "code",
   "execution_count": null,
   "metadata": {},
   "outputs": [],
   "source": []
  },
  {
   "cell_type": "code",
   "execution_count": null,
   "metadata": {},
   "outputs": [],
   "source": []
  },
  {
   "cell_type": "code",
   "execution_count": null,
   "metadata": {},
   "outputs": [],
   "source": []
  },
  {
   "cell_type": "code",
   "execution_count": null,
   "metadata": {},
   "outputs": [],
   "source": []
  },
  {
   "cell_type": "code",
   "execution_count": null,
   "metadata": {},
   "outputs": [],
   "source": []
  },
  {
   "cell_type": "code",
   "execution_count": null,
   "metadata": {},
   "outputs": [],
   "source": []
  },
  {
   "cell_type": "code",
   "execution_count": null,
   "metadata": {},
   "outputs": [],
   "source": []
  },
  {
   "cell_type": "code",
   "execution_count": null,
   "metadata": {},
   "outputs": [],
   "source": []
  },
  {
   "cell_type": "code",
   "execution_count": null,
   "metadata": {},
   "outputs": [],
   "source": []
  },
  {
   "cell_type": "code",
   "execution_count": null,
   "metadata": {},
   "outputs": [],
   "source": []
  },
  {
   "cell_type": "code",
   "execution_count": null,
   "metadata": {},
   "outputs": [],
   "source": []
  },
  {
   "cell_type": "code",
   "execution_count": null,
   "metadata": {},
   "outputs": [],
   "source": []
  },
  {
   "cell_type": "code",
   "execution_count": null,
   "metadata": {},
   "outputs": [],
   "source": []
  },
  {
   "cell_type": "code",
   "execution_count": null,
   "metadata": {},
   "outputs": [],
   "source": []
  },
  {
   "cell_type": "code",
   "execution_count": null,
   "metadata": {},
   "outputs": [],
   "source": []
  },
  {
   "cell_type": "code",
   "execution_count": null,
   "metadata": {},
   "outputs": [],
   "source": []
  },
  {
   "cell_type": "code",
   "execution_count": null,
   "metadata": {},
   "outputs": [],
   "source": []
  },
  {
   "cell_type": "code",
   "execution_count": null,
   "metadata": {},
   "outputs": [],
   "source": []
  },
  {
   "cell_type": "code",
   "execution_count": null,
   "metadata": {},
   "outputs": [],
   "source": []
  },
  {
   "cell_type": "code",
   "execution_count": null,
   "metadata": {},
   "outputs": [],
   "source": []
  },
  {
   "cell_type": "code",
   "execution_count": null,
   "metadata": {},
   "outputs": [],
   "source": []
  },
  {
   "cell_type": "code",
   "execution_count": null,
   "metadata": {},
   "outputs": [],
   "source": []
  },
  {
   "cell_type": "code",
   "execution_count": null,
   "metadata": {},
   "outputs": [],
   "source": []
  },
  {
   "cell_type": "code",
   "execution_count": null,
   "metadata": {},
   "outputs": [],
   "source": []
  }
 ],
 "metadata": {
  "kernelspec": {
   "display_name": "Python 3",
   "language": "python",
   "name": "python3"
  },
  "language_info": {
   "codemirror_mode": {
    "name": "ipython",
    "version": 3
   },
   "file_extension": ".py",
   "mimetype": "text/x-python",
   "name": "python",
   "nbconvert_exporter": "python",
   "pygments_lexer": "ipython3",
   "version": "3.7.3"
  }
 },
 "nbformat": 4,
 "nbformat_minor": 2
}
