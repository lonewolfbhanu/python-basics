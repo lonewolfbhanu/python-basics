{
 "cells": [
  {
   "cell_type": "code",
   "execution_count": 5,
   "metadata": {},
   "outputs": [
    {
     "name": "stdout",
     "output_type": "stream",
     "text": [
      "90\n"
     ]
    }
   ],
   "source": [
    "def PrintEven(n):\n",
    "    cnt=0;\n",
    "    sum=0;\n",
    "    while(cnt!=n):\n",
    "        if(cnt%2==0):\n",
    "            sum=sum+cnt;\n",
    "    \n",
    "        cnt=cnt+1;\n",
    "    return sum;\n",
    "\n",
    "print(PrintEven(20));"
   ]
  },
  {
   "cell_type": "code",
   "execution_count": 4,
   "metadata": {},
   "outputs": [
    {
     "name": "stdout",
     "output_type": "stream",
     "text": [
      "1 2 3 4 6 "
     ]
    }
   ],
   "source": [
    "def factorsList(n):\n",
    "    i=1;\n",
    "    while(i!=n):\n",
    "        if(n%i==0):\n",
    "            print(i,end=\" \");\n",
    "        i=i+1;\n",
    "    return ;\n",
    "\n",
    "factorsList(12);\n"
   ]
  },
  {
   "cell_type": "code",
   "execution_count": 6,
   "metadata": {},
   "outputs": [
    {
     "name": "stdout",
     "output_type": "stream",
     "text": [
      "[1, 2, 3, 4, 5]\n",
      "1\n"
     ]
    }
   ],
   "source": [
    "list1=[1,2,3,4,5];\n",
    "#Entire List\n",
    "print(list1);\n",
    "#list[0]\n",
    "print(list1[0])"
   ]
  },
  {
   "cell_type": "code",
   "execution_count": 9,
   "metadata": {},
   "outputs": [
    {
     "name": "stdout",
     "output_type": "stream",
     "text": [
      "1 2 3 4 5 6 7 \n",
      "5\n",
      "[4, 5, 6, 7]\n",
      "[1, 2, 3]\n",
      "[1, 2, 3]\n"
     ]
    }
   ],
   "source": [
    "list1=[1,2,3,4,5,6,7]\n",
    "for x in list1:\n",
    "    print(x,end=\" \")\n",
    "    \n",
    "print ();\n",
    "print (list1[4]);\n",
    "print (list1[3:7]);\n",
    "print (list1[0:3]);\n",
    "print (list1[:3]);"
   ]
  },
  {
   "cell_type": "code",
   "execution_count": 10,
   "metadata": {},
   "outputs": [
    {
     "name": "stdout",
     "output_type": "stream",
     "text": [
      "1 2 3 4 5 6 7 8 9 10 \n",
      "[2, 3, 4, 5, 6, 7, 8, 9]\n",
      "[3, 4, 5, 6, 7, 8]\n",
      "[1, 3, 5, 7, 9]\n",
      "[1, 4, 7, 10]\n",
      "[1, 5, 9]\n",
      "[10, 8, 6, 4, 2]\n"
     ]
    }
   ],
   "source": [
    "list1=[1,2,3,4,5,6,7,8,9,10];\n",
    "for x in list1:\n",
    "    print(x,end=\" \");\n",
    "    \n",
    "print();\n",
    "print(list1[1:-1]);\n",
    "print(list1[2:-2]);\n",
    "print(list1[::2]);\n",
    "print(list1[::3]);\n",
    "print(list1[::4]);\n",
    "print(list1[::-2]);"
   ]
  },
  {
   "cell_type": "code",
   "execution_count": 11,
   "metadata": {},
   "outputs": [
    {
     "name": "stdout",
     "output_type": "stream",
     "text": [
      "['anil', 'adarsh', 'akhil', 1]\n",
      "['anil', 'adarsh', 15, 1]\n",
      "['anil', 'adarsh', 15]\n",
      "['anil', 'gitam', 15]\n",
      "[1, 2, 3]\n",
      "['anil', 'gitam', 15, 1, 2, 3]\n"
     ]
    }
   ],
   "source": [
    "list1=[\"anil\",\"adarsh\",\"akhil\",1];\n",
    "print(list1);\n",
    "list1[2]=15;# update the list item\n",
    "print(list1);\n",
    "del list1[3];# delete the list item\n",
    "print(list1);\n",
    "list1[1]=\"gitam\";\n",
    "print(list1);\n",
    "list2=[1,2,3];\n",
    "print(list2);\n",
    "print(list1+list2);"
   ]
  },
  {
   "cell_type": "code",
   "execution_count": 12,
   "metadata": {},
   "outputs": [
    {
     "name": "stdout",
     "output_type": "stream",
     "text": [
      "[1, 2, 3, 4, 5]\n",
      "[1, 2, 4, 5]\n",
      "4\n",
      "[1, 2, 4, 5, 15, 150, 1, 3]\n",
      "2\n",
      "1\n"
     ]
    }
   ],
   "source": [
    "list1=[1,2,3,4,5];\n",
    "print(list1);\n",
    "del list1[2];\n",
    "print(list1);\n",
    "#list1[4]=15;\n",
    "print(len(list1));\n",
    "list1.append(15);\n",
    "list1.append(150);\n",
    "list1.append(1);\n",
    "list1.append(3);\n",
    "print(list1);\n",
    "print(list1.count(1));\n",
    "print(list1.count(3));\n"
   ]
  },
  {
   "cell_type": "code",
   "execution_count": 13,
   "metadata": {},
   "outputs": [
    {
     "name": "stdout",
     "output_type": "stream",
     "text": [
      "['Gitam', 'Python', 'Raptor', 1, 5, 'Python', 'Python']\n",
      "7\n",
      "['Gitam', 'Python', 2019, 'Raptor', 1, 5, 'Python', 'Python']\n",
      "8\n",
      "['Gitam', 'Python', 2019, 'Raptor', 2020, 1, 5, 'Python', 'Python']\n"
     ]
    }
   ],
   "source": [
    "list1=[\"Gitam\",\"Python\",\"Raptor\",1,5,\"Python\",\"Python\"]\n",
    "print(list1)\n",
    "list1.index(\"Python\")\n",
    "list1.index(1)\n",
    "list1.index(1)\n",
    "print(len(list1))\n",
    "list1.insert(2,2019)\n",
    "print(list1)\n",
    "print(len(list1))\n",
    "list1.insert(4,2020)\n",
    "print(list1)\n"
   ]
  },
  {
   "cell_type": "code",
   "execution_count": 14,
   "metadata": {},
   "outputs": [
    {
     "name": "stdout",
     "output_type": "stream",
     "text": [
      "['Gitam', 'Python', 'Raptor', 1, 5, 'Python', 'Python']\n",
      "['Gitam', 'Raptor', 1, 5, 'Python', 'Python']\n",
      "['Gitam', 'Raptor', 1, 5, 'Python']\n",
      "['Python', 5, 1, 'Raptor', 'Gitam']\n"
     ]
    }
   ],
   "source": [
    "list1=[\"Gitam\",\"Python\",\"Raptor\",1,5,\"Python\",\"Python\"]\n",
    "print(list1)\n",
    "list1.remove(\"Python\")\n",
    "print(list1)\n",
    "list1.remove(\"Python\")\n",
    "print(list1)\n",
    "\n",
    "list1.reverse()\n",
    "print(list1)"
   ]
  },
  {
   "cell_type": "code",
   "execution_count": 15,
   "metadata": {},
   "outputs": [
    {
     "name": "stdout",
     "output_type": "stream",
     "text": [
      "target item is not found\n"
     ]
    }
   ],
   "source": [
    "def linearSearch(a,tarItem):\n",
    "    flag=0;\n",
    "    for i in range(len(a)):\n",
    "        if a[i]==tarItem:\n",
    "            flag=1;\n",
    "        break\n",
    "    if(flag!=0):\n",
    "        print(\"target item is found\" )\n",
    "    else:\n",
    "        print(\"target item is not found\" )\n",
    "        \n",
    "a=[16,2,12,6,9,7,1]\n",
    "linearSearch(a,61)"
   ]
  },
  {
   "cell_type": "code",
   "execution_count": 17,
   "metadata": {},
   "outputs": [
    {
     "name": "stdout",
     "output_type": "stream",
     "text": [
      "2\n"
     ]
    }
   ],
   "source": [
    "def linearsearchduplicate(a,taritem):\n",
    "    flag=0\n",
    "    for i in range(len(a)):\n",
    "        if a[i]==taritem:\n",
    "            flag=flag+1\n",
    "            \n",
    "    print(flag)\n",
    "    \n",
    "a=[9,6,1,5,15,16,9]\n",
    "linearsearchduplicate(a,9)\n",
    "\n"
   ]
  },
  {
   "cell_type": "markdown",
   "metadata": {},
   "source": [
    "# Linear Search"
   ]
  },
  {
   "cell_type": "code",
   "execution_count": 22,
   "metadata": {},
   "outputs": [
    {
     "name": "stdout",
     "output_type": "stream",
     "text": [
      "1 4 7 "
     ]
    }
   ],
   "source": [
    "def linearExample1(a,tarItem):\n",
    "\n",
    "    for i in range(len(a)):\n",
    "        if a[i]==tarItem:\n",
    "            print(i,end=\" \")\n",
    "            \n",
    "a=[1,5,9,6,5,15,12,5]\n",
    "linearExample1(a,5)\n"
   ]
  },
  {
   "cell_type": "code",
   "execution_count": 4,
   "metadata": {},
   "outputs": [
    {
     "name": "stdout",
     "output_type": "stream",
     "text": [
      "! !  ! ! ! ! !  ! ! ! ! ! ! ! !  "
     ]
    }
   ],
   "source": [
    "def linearExample2(a,tarItem):\n",
    "     for i in range(len(a)):\n",
    "        if a[i]==tarItem:\n",
    "            j=0\n",
    "            while j!=i+1:\n",
    "                print(\"!\",end=\" \")\n",
    "                j=j+1\n",
    "            print(end=\" \")\n",
    "            \n",
    "a=[1,5,9,6,5,15,12,5]\n",
    "linearExample2(a,5)\n"
   ]
  },
  {
   "cell_type": "code",
   "execution_count": 6,
   "metadata": {},
   "outputs": [
    {
     "name": "stdout",
     "output_type": "stream",
     "text": [
      "enter no: 1\n",
      "[1]\n"
     ]
    }
   ],
   "source": [
    "def noToListConversion(n):\n",
    "    list=[]\n",
    "    while(n!=0):\n",
    "        r=n%10\n",
    "        list.append(r)\n",
    "        n=n//10\n",
    "    list.reverse()\n",
    "    print(list)\n",
    "    \n",
    "n=int(input(\"enter no: \"))\n",
    "noToListConversion(n)"
   ]
  },
  {
   "cell_type": "code",
   "execution_count": 5,
   "metadata": {},
   "outputs": [
    {
     "name": "stdout",
     "output_type": "stream",
     "text": [
      "1  9  19  22  "
     ]
    }
   ],
   "source": [
    "def linear(a):\n",
    "    for i in range(len(a)):\n",
    "        if i==0 or (i==len(a)-1):\n",
    "            print(a[i],end=\"  \");\n",
    "        elif (a[i-1]%2==0) and (a[i+1]%2==0):\n",
    "            print(a[i],end=\"  \");\n",
    " \n",
    "\n",
    "a=[1,6,9,4,16,19,22];\n",
    "linear(a);\n"
   ]
  },
  {
   "cell_type": "code",
   "execution_count": 7,
   "metadata": {},
   "outputs": [
    {
     "ename": "SyntaxError",
     "evalue": "unexpected EOF while parsing (<ipython-input-7-312022bd4aea>, line 10)",
     "output_type": "error",
     "traceback": [
      "\u001b[1;36m  File \u001b[1;32m\"<ipython-input-7-312022bd4aea>\"\u001b[1;36m, line \u001b[1;32m10\u001b[0m\n\u001b[1;33m    linearformattedoutput(a\u001b[0m\n\u001b[1;37m                           ^\u001b[0m\n\u001b[1;31mSyntaxError\u001b[0m\u001b[1;31m:\u001b[0m unexpected EOF while parsing\n"
     ]
    }
   ],
   "source": [
    "\n",
    "def linearformattedoutput(a):\n",
    "    for i in range(len(a)):\n",
    "        if i==0 or (i==len(a)-1):\n",
    "            print(a[i],end=\" \")\n",
    "        elif a[i-1]%2==0 and a[i+1]%2==0:\n",
    "            print(a[i],end=\" \")\n",
    "            \n",
    "a=[1,6,9,4,16,19,22]\n",
    "linearformattedoutput(a"
   ]
  },
  {
   "cell_type": "code",
   "execution_count": null,
   "metadata": {},
   "outputs": [],
   "source": []
  }
 ],
 "metadata": {
  "kernelspec": {
   "display_name": "Python 3",
   "language": "python",
   "name": "python3"
  },
  "language_info": {
   "codemirror_mode": {
    "name": "ipython",
    "version": 3
   },
   "file_extension": ".py",
   "mimetype": "text/x-python",
   "name": "python",
   "nbconvert_exporter": "python",
   "pygments_lexer": "ipython3",
   "version": "3.7.3"
  }
 },
 "nbformat": 4,
 "nbformat_minor": 2
}
